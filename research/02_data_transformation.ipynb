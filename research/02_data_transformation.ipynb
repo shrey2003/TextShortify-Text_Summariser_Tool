{
 "cells": [
  {
   "cell_type": "code",
   "execution_count": 1,
   "metadata": {},
   "outputs": [],
   "source": [
    "import os"
   ]
  },
  {
   "cell_type": "code",
   "execution_count": 2,
   "metadata": {},
   "outputs": [
    {
     "data": {
      "text/plain": [
       "'d:\\\\Desktop\\\\Final_Projects\\\\TextShortify-Text_Summariser_Tool\\\\research'"
      ]
     },
     "execution_count": 2,
     "metadata": {},
     "output_type": "execute_result"
    }
   ],
   "source": [
    "%pwd"
   ]
  },
  {
   "cell_type": "code",
   "execution_count": 3,
   "metadata": {},
   "outputs": [],
   "source": [
    "os.chdir(\"../\")"
   ]
  },
  {
   "cell_type": "code",
   "execution_count": 4,
   "metadata": {},
   "outputs": [
    {
     "data": {
      "text/plain": [
       "'d:\\\\Desktop\\\\Final_Projects\\\\TextShortify-Text_Summariser_Tool'"
      ]
     },
     "execution_count": 4,
     "metadata": {},
     "output_type": "execute_result"
    }
   ],
   "source": [
    "%pwd"
   ]
  },
  {
   "cell_type": "code",
   "execution_count": 5,
   "metadata": {},
   "outputs": [],
   "source": [
    "from dataclasses import dataclass\n",
    "from pathlib import Path\n",
    "\n",
    "@dataclass(frozen=True)\n",
    "class DataTransformationConfig:\n",
    "    root_dir: Path\n",
    "    data_path: Path\n",
    "    tokenizer_name: Path"
   ]
  },
  {
   "cell_type": "code",
   "execution_count": 6,
   "metadata": {},
   "outputs": [],
   "source": [
    "from TextShortify.constants import *\n",
    "from TextShortify.utils.common import read_yaml, create_directories\n",
    "\n",
    "class ConfigurationManager:\n",
    "    def __init__(self,config_filepath = CONFIG_FILE_PATH,params_filepath = PARAMS_FILE_PATH):\n",
    "\n",
    "        self.config = read_yaml(config_filepath)\n",
    "        self.params = read_yaml(params_filepath)\n",
    "\n",
    "        create_directories([self.config.artifacts_root])\n",
    "\n",
    "    \n",
    "\n",
    "    def get_data_transformation_config(self) -> DataTransformationConfig:\n",
    "        config = self.config.data_transformation\n",
    "\n",
    "        create_directories([config.root_dir])\n",
    "\n",
    "        data_transformation_config = DataTransformationConfig(\n",
    "            root_dir=config.root_dir,\n",
    "            data_path=config.data_path,\n",
    "            tokenizer_name=config.tokenizer_name\n",
    "        )\n",
    "\n",
    "        return data_transformation_config"
   ]
  },
  {
   "cell_type": "code",
   "execution_count": 7,
   "metadata": {},
   "outputs": [
    {
     "name": "stderr",
     "output_type": "stream",
     "text": [
      "c:\\Users\\Shreya Mishra\\.conda\\envs\\textShortify\\lib\\site-packages\\tqdm\\auto.py:21: TqdmWarning: IProgress not found. Please update jupyter and ipywidgets. See https://ipywidgets.readthedocs.io/en/stable/user_install.html\n",
      "  from .autonotebook import tqdm as notebook_tqdm\n"
     ]
    }
   ],
   "source": [
    "import os\n",
    "from TextShortify.logging import logger\n",
    "from transformers import AutoTokenizer\n",
    "from datasets import load_dataset, load_from_disk"
   ]
  },
  {
   "cell_type": "code",
   "execution_count": 19,
   "metadata": {},
   "outputs": [],
   "source": [
    "from datasets import Dataset\n",
    "import pandas as pd\n",
    "class DataTransformation(Dataset):\n",
    "    def __init__(self,data,config: DataTransformationConfig):\n",
    "        super().__init__(data)\n",
    "        self.config = config\n",
    "        self.tokenizer= AutoTokenizer.from_pretrained(config.tokenizer_name)\n",
    "        \n",
    "    def __len__(self):\n",
    "        return len(self.data)\n",
    "    \n",
    "    def convert_examples_to_features(self,idx):\n",
    "        item = self.data.iloc[idx]  # Get the row at the specified index\n",
    "        judgement = item['judgement'] # Extract dialogue from the row\n",
    "        summary = item['summary']   # Extract summary from the row\n",
    "\n",
    "        # Encode the dialogue as input data for the model\n",
    "        source = self.tokenizer.encode_plus(\n",
    "            judgement, \n",
    "            max_length=2048, \n",
    "            padding='max_length', \n",
    "            truncation=True\n",
    "        )\n",
    "\n",
    "        # Encode the summary as target data for the model\n",
    "        target = self.tokenizer.encode_plus(\n",
    "            summary, \n",
    "            max_length=512, \n",
    "            padding='max_length', \n",
    "            truncation=True\n",
    "        )\n",
    "\n",
    "        # Return a dictionary containing input_ids, attention_mask, labels, and the original summary text\n",
    "        return {\n",
    "            'input_ids': source['input_ids'].flatten(),\n",
    "            'attention_mask': source['attention_mask'].flatten(),\n",
    "            'labels': target['input_ids'].flatten(),\n",
    "            'summary': summary \n",
    "        }\n",
    "\n",
    "    # def transform_and_save(self):\n",
    "    # # Get a list of all CSV files in the directory\n",
    "        \n",
    "    #         # Transform the data using the convert_examples_to_features method\n",
    "    #     transformed_dataset = data.map(self.convert_examples_to_features, batched=True)\n",
    "\n",
    "    #         # # Save the transformed data\n",
    "    #     transformed_dataset.save_to_disk(os.path.join(self.config.root_dir, 'transformed_data'))\n",
    "   "
   ]
  },
  {
   "cell_type": "code",
   "execution_count": 21,
   "metadata": {},
   "outputs": [
    {
     "name": "stdout",
     "output_type": "stream",
     "text": [
      "[2023-12-30 22:54:08,744: INFO: common: yaml file: config\\config.yaml loaded successfully]\n",
      "[2023-12-30 22:54:08,752: INFO: common: yaml file: params.yaml loaded successfully]\n",
      "[2023-12-30 22:54:08,760: INFO: common: created directory at: artifacts]\n",
      "[2023-12-30 22:54:08,760: INFO: common: created directory at: artifacts/data_transformation]\n"
     ]
    },
    {
     "name": "stderr",
     "output_type": "stream",
     "text": [
      "Saving the dataset (1/1 shards): 100%|██████████| 7773/7773 [00:00<00:00, 21828.91 examples/s]\n",
      "Saving the dataset (1/1 shards): 100%|██████████| 200/200 [00:00<00:00, 8323.02 examples/s] \n"
     ]
    }
   ],
   "source": [
    "import pyarrow as pa\n",
    "try:\n",
    "    config = ConfigurationManager()\n",
    "    data_transformation_config = config.get_data_transformation_config()\n",
    "    train_df= pd.read_csv(os.path.join(data_transformation_config.data_path, \"train.csv\"))\n",
    "    test_df= pd.read_csv(os.path.join(data_transformation_config.data_path, \"test.csv\"))\n",
    "    # Convert pandas DataFrame to Arrow Table\n",
    "    train_table = pa.Table.from_pandas(train_df)\n",
    "    test_table = pa.Table.from_pandas(test_df)\n",
    "\n",
    "    # Pass Arrow Tables to DataTransformation\n",
    "    data_transformation_train = DataTransformation(config=data_transformation_config, data=train_table)\n",
    "    data_transformation_test = DataTransformation(config=data_transformation_config, data=test_table)\n",
    "    train_dataset=data_transformation_train.save_to_disk(os.path.join(data_transformation_config.root_dir, 'train_data'))\n",
    "    test_dataset=data_transformation_test.save_to_disk(os.path.join(data_transformation_config.root_dir, 'test_data'))\n",
    "except Exception as e:\n",
    "    raise e"
   ]
  },
  {
   "cell_type": "code",
   "execution_count": null,
   "metadata": {},
   "outputs": [],
   "source": []
  }
 ],
 "metadata": {
  "kernelspec": {
   "display_name": "textShortify",
   "language": "python",
   "name": "python3"
  },
  "language_info": {
   "codemirror_mode": {
    "name": "ipython",
    "version": 3
   },
   "file_extension": ".py",
   "mimetype": "text/x-python",
   "name": "python",
   "nbconvert_exporter": "python",
   "pygments_lexer": "ipython3",
   "version": "3.8.18"
  }
 },
 "nbformat": 4,
 "nbformat_minor": 2
}
