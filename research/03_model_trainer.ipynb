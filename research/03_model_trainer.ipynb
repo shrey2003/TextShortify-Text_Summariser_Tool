{
 "cells": [
  {
   "cell_type": "code",
   "execution_count": null,
   "metadata": {},
   "outputs": [
    {
     "ename": "",
     "evalue": "",
     "output_type": "error",
     "traceback": [
      "\u001b[1;31mRunning cells with 'textShortify' requires the ipykernel package.\n",
      "\u001b[1;31mRun the following command to install 'ipykernel' into the Python environment. \n",
      "\u001b[1;31mCommand: 'conda install -n textShortify ipykernel --update-deps --force-reinstall'"
     ]
    }
   ],
   "source": [
    "import os"
   ]
  },
  {
   "cell_type": "code",
   "execution_count": null,
   "metadata": {},
   "outputs": [
    {
     "ename": "",
     "evalue": "",
     "output_type": "error",
     "traceback": [
      "\u001b[1;31mRunning cells with 'textShortify' requires the ipykernel package.\n",
      "\u001b[1;31mRun the following command to install 'ipykernel' into the Python environment. \n",
      "\u001b[1;31mCommand: 'conda install -n textShortify ipykernel --update-deps --force-reinstall'"
     ]
    }
   ],
   "source": [
    "%pwd"
   ]
  },
  {
   "cell_type": "code",
   "execution_count": 8,
   "metadata": {},
   "outputs": [],
   "source": [
    "os.chdir(\"../\")"
   ]
  },
  {
   "cell_type": "code",
   "execution_count": 9,
   "metadata": {},
   "outputs": [
    {
     "data": {
      "text/plain": [
       "'d:\\\\Desktop\\\\Final_Projects'"
      ]
     },
     "execution_count": 9,
     "metadata": {},
     "output_type": "execute_result"
    }
   ],
   "source": [
    "%pwd"
   ]
  },
  {
   "cell_type": "code",
   "execution_count": 10,
   "metadata": {},
   "outputs": [],
   "source": [
    "from dataclasses import dataclass\n",
    "from pathlib import Path\n",
    "\n",
    "\n",
    "@dataclass(frozen=True)\n",
    "class ModelTrainerConfig:\n",
    "    max_seq_length: int\n",
    "    dtype: str\n",
    "    load_in_4bit: bool\n",
    "    model_name: str\n",
    "    r: int\n",
    "    target_modules: list\n",
    "    lora_alpha: int\n",
    "    lora_dropout: int\n",
    "    bias: str\n",
    "    use_gradient_checkpointing: bool\n",
    "    random_state: int"
   ]
  },
  {
   "cell_type": "code",
   "execution_count": 11,
   "metadata": {},
   "outputs": [],
   "source": []
  },
  {
   "cell_type": "code",
   "execution_count": null,
   "metadata": {},
   "outputs": [],
   "source": []
  },
  {
   "cell_type": "code",
   "execution_count": 7,
   "metadata": {},
   "outputs": [],
   "source": [
    "from transformers import AutoTokenizer\n",
    "import os\n",
    "from DocQnA.logging import logger"
   ]
  },
  {
   "cell_type": "code",
   "execution_count": null,
   "metadata": {},
   "outputs": [],
   "source": [
    "from unsloth import FastLanguageModel\n",
    "from trl import SFTTrainer\n",
    "import torch\n",
    "from transformers import TrainingArguments\n",
    "from dataclasses import dataclass\n",
    "from pathlib import Path\n",
    "\n",
    "@dataclass(frozen=True)\n",
    "class ModelTrainerConfig:\n",
    "    max_seq_length: int\n",
    "    dtype: str\n",
    "    load_in_4bit: bool\n",
    "    model_name: str\n",
    "    r: int\n",
    "    target_modules: list\n",
    "    lora_alpha: int\n",
    "    lora_dropout: int\n",
    "    bias: str\n",
    "    use_gradient_checkpointing: bool\n",
    "    random_state: int\n",
    "\n",
    "class ModelTrainer:\n",
    "    def __init__(self, config: ModelTrainerConfig):\n",
    "        self.config = config\n",
    "\n",
    "    def train(self):\n",
    "        model, tokenizer = FastLanguageModel.from_pretrained(\n",
    "            model_name=self.config.model_name,\n",
    "            max_seq_length=self.config.max_seq_length,\n",
    "            dtype=self.config.dtype,\n",
    "            load_in_4bit=self.config.load_in_4bit\n",
    "        )\n",
    "\n",
    "        model = FastLanguageModel.get_peft_model(\n",
    "            model,\n",
    "            r=self.config.r,\n",
    "            target_modules=self.config.target_modules,\n",
    "            lora_alpha=self.config.lora_alpha,\n",
    "            lora_dropout=self.config.lora_dropout,\n",
    "            bias=self.config.bias,\n",
    "            use_gradient_checkpointing=self.config.use_gradient_checkpointing,\n",
    "            random_state=self.config.random_state,\n",
    "            max_seq_length=self.config.max_seq_length\n",
    "        )\n",
    "\n",
    "        trainer = SFTTrainer(\n",
    "            model=model,\n",
    "            train_dataset=dataset,\n",
    "            dataset_text_field=\"text\",\n",
    "            max_seq_length=self.config.max_seq_length,\n",
    "            args=TrainingArguments(\n",
    "                per_device_train_batch_size=32,\n",
    "                gradient_accumulation_steps=1,\n",
    "                warmup_steps=5,\n",
    "                max_steps=50,\n",
    "                learning_rate=2e-4,\n",
    "                fp16=not torch.cuda.is_bf16_supported(),\n",
    "                bf16=torch.cuda.is_bf16_supported(),\n",
    "                logging_steps=2,\n",
    "                optim=\"adamw_8bit\",\n",
    "                weight_decay=0.01,\n",
    "                lr_scheduler_type=\"linear\",\n",
    "                seed=self.config.random_state,\n",
    "                output_dir=\"outputs\"\n",
    "            )\n",
    "        )\n",
    "\n",
    "        trainer_stats = trainer.train()\n",
    "\n",
    "try:\n",
    "    config = ModelTrainerConfig(\n",
    "        max_seq_length=2048,\n",
    "        dtype=None,\n",
    "        load_in_4bit=True,\n",
    "        model_name=\"unsloth/zephyr-sft-bnb-4bit\",\n",
    "        r=16,\n",
    "        target_modules=[\"q_proj\", \"k_proj\", \"v_proj\", \"o_proj\", \"gate_proj\", \"up_proj\", \"down_proj\"],\n",
    "        lora_alpha=32,\n",
    "        lora_dropout=0,\n",
    "        bias=\"none\",\n",
    "        use_gradient_checkpointing=True,\n",
    "        random_state=3407\n",
    "    )\n",
    "    model_trainer = ModelTrainer(config=config)\n",
    "    model_trainer.train()\n",
    "except Exception as e:\n",
    "    raise e"
   ]
  }
 ],
 "metadata": {
  "kernelspec": {
   "display_name": "textShortify",
   "language": "python",
   "name": "python3"
  },
  "language_info": {
   "codemirror_mode": {
    "name": "ipython",
    "version": 3
   },
   "file_extension": ".py",
   "mimetype": "text/x-python",
   "name": "python",
   "nbconvert_exporter": "python",
   "pygments_lexer": "ipython3",
   "version": "3.10.0"
  }
 },
 "nbformat": 4,
 "nbformat_minor": 2
}
